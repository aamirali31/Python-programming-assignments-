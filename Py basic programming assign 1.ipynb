{
 "cells": [
  {
   "cell_type": "code",
   "execution_count": 1,
   "id": "c7c6ca7e",
   "metadata": {},
   "outputs": [
    {
     "name": "stdout",
     "output_type": "stream",
     "text": [
      "Hello Python\n"
     ]
    }
   ],
   "source": [
    "#Que 1. Write a Python program to print \"Hello Python\"?\n",
    "\n",
    "#This program will print \"Hello Python\"\n",
    "print(\"Hello Python\")"
   ]
  },
  {
   "cell_type": "code",
   "execution_count": 2,
   "id": "4ef12e74",
   "metadata": {},
   "outputs": [
    {
     "name": "stdout",
     "output_type": "stream",
     "text": [
      "enter the first number10\n",
      "enter the second number5\n",
      "Addition of 10.0 and 5.0 is : 15.0\n",
      "Division of 10.0 and 5.0 is : 2.0\n"
     ]
    }
   ],
   "source": [
    "#Que 2.Write a python prgram to do arithmetical operations addition and division.\n",
    "\n",
    "num1 = float(input(\"enter the first number\"))\n",
    "num2 = float(input(\"enter the second number\"))\n",
    "\n",
    "#Add two numbers\n",
    "\n",
    "add = num1 + num2\n",
    "print(\"Addition of\", num1, \"and\", num2, \"is :\",add)\n",
    "\n",
    "#Divide two numbers\n",
    "\n",
    "div = num1 / num2\n",
    "print(\"Division of\", num1, \"and\", num2, \"is :\",div)\n"
   ]
  },
  {
   "cell_type": "code",
   "execution_count": 3,
   "id": "16f3e925",
   "metadata": {},
   "outputs": [
    {
     "name": "stdout",
     "output_type": "stream",
     "text": [
      "enter the length of first side7\n",
      "enter the length of second side6\n",
      "enter the length of third side6\n",
      "Area of triangle is : 17.056890103415686\n"
     ]
    }
   ],
   "source": [
    "#Que 3. Write a python program to find a area of triangle.\n",
    "\n",
    "#so by using Heron's formula we are going to find the area of triangle.\n",
    "#perimeter of triangle is p = a+b+c and s is half of the perimeter \n",
    "\n",
    "\n",
    "a = int(input(\"enter the length of first side\"))\n",
    "b = int(input(\"enter the length of second side\"))\n",
    "c = int(input(\"enter the length of third side\"))\n",
    "\n",
    "p = (a+b+c)\n",
    "s = p/2\n",
    "\n",
    "area = (s*(s-a)*(s-b)*(s-c))**0.5\n",
    "print(\"Area of triangle is :\",area)"
   ]
  },
  {
   "cell_type": "code",
   "execution_count": 5,
   "id": "a1b64b07",
   "metadata": {},
   "outputs": [
    {
     "name": "stdout",
     "output_type": "stream",
     "text": [
      "value of x : 10\n",
      "value of y : 5\n"
     ]
    }
   ],
   "source": [
    "#Que 4. Write a python program to swap to variables.\n",
    "\n",
    "x = 5\n",
    "y = 10\n",
    "\n",
    "#By creating a temporary variable and swap the value\n",
    "\n",
    "temp = x\n",
    "x = y\n",
    "y = temp\n",
    "\n",
    "print(\"value of x :\",x)\n",
    "print(\"value of y :\",y)"
   ]
  },
  {
   "cell_type": "code",
   "execution_count": 6,
   "id": "c9c548b2",
   "metadata": {},
   "outputs": [
    {
     "name": "stdout",
     "output_type": "stream",
     "text": [
      "19\n"
     ]
    }
   ],
   "source": [
    "#Que 5. Write a python program to generate a random number.\n",
    "\n",
    "import random\n",
    "\n",
    "list = [11,12,13,14,15,16,17,18,19,20]\n",
    "#print the random number from the given list\n",
    "\n",
    "print(random.choice(list))\n"
   ]
  },
  {
   "cell_type": "code",
   "execution_count": null,
   "id": "be7172e2",
   "metadata": {},
   "outputs": [],
   "source": []
  }
 ],
 "metadata": {
  "kernelspec": {
   "display_name": "Python 3 (ipykernel)",
   "language": "python",
   "name": "python3"
  },
  "language_info": {
   "codemirror_mode": {
    "name": "ipython",
    "version": 3
   },
   "file_extension": ".py",
   "mimetype": "text/x-python",
   "name": "python",
   "nbconvert_exporter": "python",
   "pygments_lexer": "ipython3",
   "version": "3.9.7"
  }
 },
 "nbformat": 4,
 "nbformat_minor": 5
}
