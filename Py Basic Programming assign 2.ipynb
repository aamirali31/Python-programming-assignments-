{
 "cells": [
  {
   "cell_type": "code",
   "execution_count": 1,
   "id": "74e441ad",
   "metadata": {},
   "outputs": [
    {
     "name": "stdout",
     "output_type": "stream",
     "text": [
      "enter the distance in kilometers : 2\n",
      "2.00 kilometers = 1.24 miles\n"
     ]
    }
   ],
   "source": [
    "#Que1. Write a Python program to convert kilometers to miles?\n",
    "\n",
    "Km = float(input(\"enter the distance in kilometers : \"))\n",
    "\n",
    "#1km = 0.621371 miles\n",
    "mi = Km * 0.621371\n",
    "\n",
    "print(\"%.2f kilometers = %.2f miles\" %(Km,mi))"
   ]
  },
  {
   "cell_type": "code",
   "execution_count": 2,
   "id": "482f6197",
   "metadata": {
    "scrolled": true
   },
   "outputs": [
    {
     "name": "stdout",
     "output_type": "stream",
     "text": [
      "enter the temperature in celcius : 34\n",
      "34.00 celcius = 93.20 Fahrenheit\n"
     ]
    }
   ],
   "source": [
    "#Que2. Write a Python program to convert Celsius to Fahrenheit?\n",
    "\n",
    "celcius = float(input(\"enter the temperature in celcius : \"))\n",
    "Fahrenheit = (celcius * 1.8) + 32\n",
    "\n",
    "print(\"%.2f celcius = %.2f Fahrenheit\" %(celcius,Fahrenheit))"
   ]
  },
  {
   "cell_type": "code",
   "execution_count": 1,
   "id": "63a39f51",
   "metadata": {},
   "outputs": [
    {
     "name": "stdout",
     "output_type": "stream",
     "text": [
      "enter the year : 2012\n",
      "enter the month : 5\n",
      "      May 2012\n",
      "Mo Tu We Th Fr Sa Su\n",
      "    1  2  3  4  5  6\n",
      " 7  8  9 10 11 12 13\n",
      "14 15 16 17 18 19 20\n",
      "21 22 23 24 25 26 27\n",
      "28 29 30 31\n",
      "\n"
     ]
    }
   ],
   "source": [
    "#Que3. Write a Python program to display calendar?\n",
    "import calendar\n",
    "\n",
    "year = int(input(\"enter the year : \"))\n",
    "month = int(input(\"enter the month : \"))\n",
    "\n",
    "Mycal = calendar.month(year,month)\n",
    "print(Mycal)"
   ]
  },
  {
   "cell_type": "code",
   "execution_count": 2,
   "id": "39f380d5",
   "metadata": {},
   "outputs": [
    {
     "name": "stdout",
     "output_type": "stream",
     "text": [
      "general form:- ax**2 + bx + c = 0\n",
      "enter a (a!=0): 4\n",
      "enter b: -4\n",
      "enter c: 1\n",
      "Type of roots : Two equal real roots\n",
      "The solutions are (0.5+0j) and (0.5+0j)\n"
     ]
    }
   ],
   "source": [
    "#Que4. Write a Python program to solve quadratic equation?\n",
    "\n",
    "import cmath\n",
    "\n",
    "print(\"general form:- ax**2 + bx + c = 0\")\n",
    "a = int(input(\"enter a (a!=0): \"))\n",
    "b = int(input(\"enter b: \"))\n",
    "c = int(input(\"enter c: \"))\n",
    "\n",
    "#calculate discriminant\n",
    "dis = (b**2) - (4*a*c)\n",
    "\n",
    "sol1 = (-b-cmath.sqrt(dis))/(2*a)\n",
    "sol2 = (-b+cmath.sqrt(dis))/(2*a)\n",
    "\n",
    "if dis>0:\n",
    "    print(\"Type of roots : Two distinct reak roots\")\n",
    "elif dis==0:\n",
    "    print(\"Type of roots : Two equal real roots\")\n",
    "elif dis<0:\n",
    "    print(\"Type of roots : Two complex roots\")\n",
    "    \n",
    "print(f\"The solutions are {sol1} and {sol2}\")    "
   ]
  },
  {
   "cell_type": "code",
   "execution_count": 3,
   "id": "ec4f7e6a",
   "metadata": {},
   "outputs": [
    {
     "name": "stdout",
     "output_type": "stream",
     "text": [
      "enter the num1 : 2.5\n",
      "enter the num2 : 5\n",
      "5.0\n",
      "2.5\n"
     ]
    }
   ],
   "source": [
    "#Que5. Write a Python program to swap two variables without temp variable?\n",
    "\n",
    "a = float(input(\"enter the num1 : \"))\n",
    "b = float(input(\"enter the num2 : \"))\n",
    "\n",
    "a = a + b\n",
    "b = a - b\n",
    "a = a - b\n",
    "\n",
    "print(a)\n",
    "print(b)"
   ]
  },
  {
   "cell_type": "code",
   "execution_count": null,
   "id": "f3c79091",
   "metadata": {},
   "outputs": [],
   "source": []
  }
 ],
 "metadata": {
  "kernelspec": {
   "display_name": "Python 3 (ipykernel)",
   "language": "python",
   "name": "python3"
  },
  "language_info": {
   "codemirror_mode": {
    "name": "ipython",
    "version": 3
   },
   "file_extension": ".py",
   "mimetype": "text/x-python",
   "name": "python",
   "nbconvert_exporter": "python",
   "pygments_lexer": "ipython3",
   "version": "3.9.7"
  }
 },
 "nbformat": 4,
 "nbformat_minor": 5
}
